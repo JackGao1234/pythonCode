{
 "cells": [
  {
   "cell_type": "markdown",
   "metadata": {},
   "source": [
    "## 104網站(招募方塊)"
   ]
  },
  {
   "cell_type": "code",
   "execution_count": 4,
   "metadata": {
    "collapsed": false,
    "scrolled": true
   },
   "outputs": [
    {
     "ename": "ConnectionError",
     "evalue": "HTTPSConnectionPool(host='www.104.com.tw', port=443): Max retries exceeded with url: /jobbank/joblist/joblist.cfm?jobsource=104_sj&ro=0&keyword=%E8%B3%87%E6%96%99%E7%A7%91%E5%AD%B8&order=2&asc=0&page=17 (Caused by NewConnectionError('<requests.packages.urllib3.connection.VerifiedHTTPSConnection object at 0x000000000778E588>: Failed to establish a new connection: [Errno 10060] \\xb3s\\xbdu\\xb9\\xc1\\xb8\\xd5\\xa5\\xa2\\xb1\\xd1\\xa1A\\xa6]\\xac\\xb0\\xb3s\\xbdu\\xb9\\xef\\xb6H\\xa6\\xb3\\xa4@\\xacq\\xae\\xc9\\xb6\\xa1\\xa8\\xc3\\xa5\\xbc\\xa5\\xbf\\xbdT\\xa6^\\xc0\\xb3\\xa1A\\xa9\\xce\\xacO\\xb3s\\xbdu\\xab\\xd8\\xa5\\xdf\\xa5\\xa2\\xb1\\xd1\\xa1A\\xa6]\\xac\\xb0\\xb3s\\xbdu\\xaa\\xba\\xa5D\\xbe\\xf7\\xb5L\\xaak\\xa6^\\xc0\\xb3\\xa1C',))",
     "output_type": "error",
     "traceback": [
      "\u001b[0;31m---------------------------------------------------------------------------\u001b[0m",
      "\u001b[0;31mConnectionError\u001b[0m                           Traceback (most recent call last)",
      "\u001b[0;32m<ipython-input-4-8a4df90c03c8>\u001b[0m in \u001b[0;36m<module>\u001b[0;34m()\u001b[0m\n\u001b[1;32m      5\u001b[0m \u001b[1;33m\u001b[0m\u001b[0m\n\u001b[1;32m      6\u001b[0m \u001b[1;32mfor\u001b[0m \u001b[0mpage\u001b[0m \u001b[1;32min\u001b[0m \u001b[0mrange\u001b[0m\u001b[1;33m(\u001b[0m\u001b[1;36m1\u001b[0m\u001b[1;33m,\u001b[0m\u001b[1;36m50\u001b[0m\u001b[1;33m)\u001b[0m\u001b[1;33m:\u001b[0m\u001b[1;33m\u001b[0m\u001b[0m\n\u001b[0;32m----> 7\u001b[0;31m     \u001b[0mres\u001b[0m \u001b[1;33m=\u001b[0m \u001b[0mr\u001b[0m\u001b[1;33m.\u001b[0m\u001b[0mget\u001b[0m\u001b[1;33m(\u001b[0m\u001b[0mURL\u001b[0m\u001b[1;33m.\u001b[0m\u001b[0mformat\u001b[0m\u001b[1;33m(\u001b[0m\u001b[0mpage\u001b[0m\u001b[1;33m)\u001b[0m\u001b[1;33m)\u001b[0m\u001b[1;33m\u001b[0m\u001b[0m\n\u001b[0m\u001b[1;32m      8\u001b[0m \u001b[1;31m#     res.encoding = 'urf-8'\u001b[0m\u001b[1;33m\u001b[0m\u001b[1;33m\u001b[0m\u001b[0m\n\u001b[1;32m      9\u001b[0m     \u001b[0msoup\u001b[0m \u001b[1;33m=\u001b[0m \u001b[0mBeautifulSoup\u001b[0m\u001b[1;33m(\u001b[0m\u001b[0mres\u001b[0m\u001b[1;33m.\u001b[0m\u001b[0mtext\u001b[0m\u001b[1;33m,\u001b[0m \u001b[1;34m'lxml'\u001b[0m\u001b[1;33m)\u001b[0m\u001b[1;33m\u001b[0m\u001b[0m\n",
      "\u001b[0;32mC:\\Users\\BIG DATA\\Anaconda2\\lib\\site-packages\\requests\\api.pyc\u001b[0m in \u001b[0;36mget\u001b[0;34m(url, params, **kwargs)\u001b[0m\n\u001b[1;32m     68\u001b[0m \u001b[1;33m\u001b[0m\u001b[0m\n\u001b[1;32m     69\u001b[0m     \u001b[0mkwargs\u001b[0m\u001b[1;33m.\u001b[0m\u001b[0msetdefault\u001b[0m\u001b[1;33m(\u001b[0m\u001b[1;34m'allow_redirects'\u001b[0m\u001b[1;33m,\u001b[0m \u001b[0mTrue\u001b[0m\u001b[1;33m)\u001b[0m\u001b[1;33m\u001b[0m\u001b[0m\n\u001b[0;32m---> 70\u001b[0;31m     \u001b[1;32mreturn\u001b[0m \u001b[0mrequest\u001b[0m\u001b[1;33m(\u001b[0m\u001b[1;34m'get'\u001b[0m\u001b[1;33m,\u001b[0m \u001b[0murl\u001b[0m\u001b[1;33m,\u001b[0m \u001b[0mparams\u001b[0m\u001b[1;33m=\u001b[0m\u001b[0mparams\u001b[0m\u001b[1;33m,\u001b[0m \u001b[1;33m**\u001b[0m\u001b[0mkwargs\u001b[0m\u001b[1;33m)\u001b[0m\u001b[1;33m\u001b[0m\u001b[0m\n\u001b[0m\u001b[1;32m     71\u001b[0m \u001b[1;33m\u001b[0m\u001b[0m\n\u001b[1;32m     72\u001b[0m \u001b[1;33m\u001b[0m\u001b[0m\n",
      "\u001b[0;32mC:\\Users\\BIG DATA\\Anaconda2\\lib\\site-packages\\requests\\api.pyc\u001b[0m in \u001b[0;36mrequest\u001b[0;34m(method, url, **kwargs)\u001b[0m\n\u001b[1;32m     54\u001b[0m     \u001b[1;31m# cases, and look like a memory leak in others.\u001b[0m\u001b[1;33m\u001b[0m\u001b[1;33m\u001b[0m\u001b[0m\n\u001b[1;32m     55\u001b[0m     \u001b[1;32mwith\u001b[0m \u001b[0msessions\u001b[0m\u001b[1;33m.\u001b[0m\u001b[0mSession\u001b[0m\u001b[1;33m(\u001b[0m\u001b[1;33m)\u001b[0m \u001b[1;32mas\u001b[0m \u001b[0msession\u001b[0m\u001b[1;33m:\u001b[0m\u001b[1;33m\u001b[0m\u001b[0m\n\u001b[0;32m---> 56\u001b[0;31m         \u001b[1;32mreturn\u001b[0m \u001b[0msession\u001b[0m\u001b[1;33m.\u001b[0m\u001b[0mrequest\u001b[0m\u001b[1;33m(\u001b[0m\u001b[0mmethod\u001b[0m\u001b[1;33m=\u001b[0m\u001b[0mmethod\u001b[0m\u001b[1;33m,\u001b[0m \u001b[0murl\u001b[0m\u001b[1;33m=\u001b[0m\u001b[0murl\u001b[0m\u001b[1;33m,\u001b[0m \u001b[1;33m**\u001b[0m\u001b[0mkwargs\u001b[0m\u001b[1;33m)\u001b[0m\u001b[1;33m\u001b[0m\u001b[0m\n\u001b[0m\u001b[1;32m     57\u001b[0m \u001b[1;33m\u001b[0m\u001b[0m\n\u001b[1;32m     58\u001b[0m \u001b[1;33m\u001b[0m\u001b[0m\n",
      "\u001b[0;32mC:\\Users\\BIG DATA\\Anaconda2\\lib\\site-packages\\requests\\sessions.pyc\u001b[0m in \u001b[0;36mrequest\u001b[0;34m(self, method, url, params, data, headers, cookies, files, auth, timeout, allow_redirects, proxies, hooks, stream, verify, cert, json)\u001b[0m\n\u001b[1;32m    473\u001b[0m         }\n\u001b[1;32m    474\u001b[0m         \u001b[0msend_kwargs\u001b[0m\u001b[1;33m.\u001b[0m\u001b[0mupdate\u001b[0m\u001b[1;33m(\u001b[0m\u001b[0msettings\u001b[0m\u001b[1;33m)\u001b[0m\u001b[1;33m\u001b[0m\u001b[0m\n\u001b[0;32m--> 475\u001b[0;31m         \u001b[0mresp\u001b[0m \u001b[1;33m=\u001b[0m \u001b[0mself\u001b[0m\u001b[1;33m.\u001b[0m\u001b[0msend\u001b[0m\u001b[1;33m(\u001b[0m\u001b[0mprep\u001b[0m\u001b[1;33m,\u001b[0m \u001b[1;33m**\u001b[0m\u001b[0msend_kwargs\u001b[0m\u001b[1;33m)\u001b[0m\u001b[1;33m\u001b[0m\u001b[0m\n\u001b[0m\u001b[1;32m    476\u001b[0m \u001b[1;33m\u001b[0m\u001b[0m\n\u001b[1;32m    477\u001b[0m         \u001b[1;32mreturn\u001b[0m \u001b[0mresp\u001b[0m\u001b[1;33m\u001b[0m\u001b[0m\n",
      "\u001b[0;32mC:\\Users\\BIG DATA\\Anaconda2\\lib\\site-packages\\requests\\sessions.pyc\u001b[0m in \u001b[0;36msend\u001b[0;34m(self, request, **kwargs)\u001b[0m\n\u001b[1;32m    594\u001b[0m \u001b[1;33m\u001b[0m\u001b[0m\n\u001b[1;32m    595\u001b[0m         \u001b[1;31m# Send the request\u001b[0m\u001b[1;33m\u001b[0m\u001b[1;33m\u001b[0m\u001b[0m\n\u001b[0;32m--> 596\u001b[0;31m         \u001b[0mr\u001b[0m \u001b[1;33m=\u001b[0m \u001b[0madapter\u001b[0m\u001b[1;33m.\u001b[0m\u001b[0msend\u001b[0m\u001b[1;33m(\u001b[0m\u001b[0mrequest\u001b[0m\u001b[1;33m,\u001b[0m \u001b[1;33m**\u001b[0m\u001b[0mkwargs\u001b[0m\u001b[1;33m)\u001b[0m\u001b[1;33m\u001b[0m\u001b[0m\n\u001b[0m\u001b[1;32m    597\u001b[0m \u001b[1;33m\u001b[0m\u001b[0m\n\u001b[1;32m    598\u001b[0m         \u001b[1;31m# Total elapsed time of the request (approximately)\u001b[0m\u001b[1;33m\u001b[0m\u001b[1;33m\u001b[0m\u001b[0m\n",
      "\u001b[0;32mC:\\Users\\BIG DATA\\Anaconda2\\lib\\site-packages\\requests\\adapters.pyc\u001b[0m in \u001b[0;36msend\u001b[0;34m(self, request, stream, timeout, verify, cert, proxies)\u001b[0m\n\u001b[1;32m    485\u001b[0m                 \u001b[1;32mraise\u001b[0m \u001b[0mProxyError\u001b[0m\u001b[1;33m(\u001b[0m\u001b[0me\u001b[0m\u001b[1;33m,\u001b[0m \u001b[0mrequest\u001b[0m\u001b[1;33m=\u001b[0m\u001b[0mrequest\u001b[0m\u001b[1;33m)\u001b[0m\u001b[1;33m\u001b[0m\u001b[0m\n\u001b[1;32m    486\u001b[0m \u001b[1;33m\u001b[0m\u001b[0m\n\u001b[0;32m--> 487\u001b[0;31m             \u001b[1;32mraise\u001b[0m \u001b[0mConnectionError\u001b[0m\u001b[1;33m(\u001b[0m\u001b[0me\u001b[0m\u001b[1;33m,\u001b[0m \u001b[0mrequest\u001b[0m\u001b[1;33m=\u001b[0m\u001b[0mrequest\u001b[0m\u001b[1;33m)\u001b[0m\u001b[1;33m\u001b[0m\u001b[0m\n\u001b[0m\u001b[1;32m    488\u001b[0m \u001b[1;33m\u001b[0m\u001b[0m\n\u001b[1;32m    489\u001b[0m         \u001b[1;32mexcept\u001b[0m \u001b[0mClosedPoolError\u001b[0m \u001b[1;32mas\u001b[0m \u001b[0me\u001b[0m\u001b[1;33m:\u001b[0m\u001b[1;33m\u001b[0m\u001b[0m\n",
      "\u001b[0;31mConnectionError\u001b[0m: HTTPSConnectionPool(host='www.104.com.tw', port=443): Max retries exceeded with url: /jobbank/joblist/joblist.cfm?jobsource=104_sj&ro=0&keyword=%E8%B3%87%E6%96%99%E7%A7%91%E5%AD%B8&order=2&asc=0&page=17 (Caused by NewConnectionError('<requests.packages.urllib3.connection.VerifiedHTTPSConnection object at 0x000000000778E588>: Failed to establish a new connection: [Errno 10060] \\xb3s\\xbdu\\xb9\\xc1\\xb8\\xd5\\xa5\\xa2\\xb1\\xd1\\xa1A\\xa6]\\xac\\xb0\\xb3s\\xbdu\\xb9\\xef\\xb6H\\xa6\\xb3\\xa4@\\xacq\\xae\\xc9\\xb6\\xa1\\xa8\\xc3\\xa5\\xbc\\xa5\\xbf\\xbdT\\xa6^\\xc0\\xb3\\xa1A\\xa9\\xce\\xacO\\xb3s\\xbdu\\xab\\xd8\\xa5\\xdf\\xa5\\xa2\\xb1\\xd1\\xa1A\\xa6]\\xac\\xb0\\xb3s\\xbdu\\xaa\\xba\\xa5D\\xbe\\xf7\\xb5L\\xaak\\xa6^\\xc0\\xb3\\xa1C',))"
     ]
    }
   ],
   "source": [
    "import requests as r\n",
    "from bs4 import BeautifulSoup\n",
    "URL = \"\"\"https://www.104.com.tw/jobbank/joblist/joblist.cfm?jobsource=104_sj&ro=0&keyword=%E8%B3%87%E6%96%99%E7%A7%91%E5%AD%B8&order=2&asc=0&page={}\"\"\"\n",
    "article_list=[]\n",
    "\n",
    "for page in range(1,50):\n",
    "    res = r.get(URL.format(page))\n",
    "#     res.encoding = 'urf-8'\n",
    "    soup = BeautifulSoup(res.text, 'lxml')\n",
    "    articles = soup.select('div.line_bottom')\n",
    "#     print type(articles)\n",
    "    try:\n",
    "        for article in articles:\n",
    "            article_dict={}\n",
    "            article_dict['title'] = article.select_one('a').text\n",
    "            article_dict['cor_name'] = article.select_one('div.compname_summary').select_one('a').text\n",
    "            article_dict['requirement'] = article.select_one('div.requirement').text\n",
    "    #         article_dict['location'] = article.select_one('span[itemprop=\"addressLocality\"]')\n",
    "            article_dict['location'] = article.select_one('div.area_summary').text.strip()\n",
    "            article_dict['hot_deg'] = article.select_one('div.candidates_summary').text.strip()\n",
    "            article_list.append(article_dict)\n",
    "#             print article_dict\n",
    "    except Exception as e:\n",
    "        article_dict['title'] =\"\"\n",
    "        article_dict['location'] =\"\""
   ]
  },
  {
   "cell_type": "code",
   "execution_count": 2,
   "metadata": {
    "collapsed": false
   },
   "outputs": [],
   "source": [
    "import json\n",
    "jobjson = json.dumps(article_list, ensure_ascii=False)\n",
    "with open('job1.json', 'w') as f:\n",
    "    f.write(jobjson.encode('utf-8'))"
   ]
  },
  {
   "cell_type": "markdown",
   "metadata": {},
   "source": [
    "## json file to mySQL"
   ]
  },
  {
   "cell_type": "code",
   "execution_count": 139,
   "metadata": {
    "collapsed": true
   },
   "outputs": [],
   "source": [
    "import MySQLdb\n",
    "db = MySQLdb.connect(host=\"localhost\",user=\"root\",db=\"python\",passwd=\"23784409\")\n",
    "cursor = db.cursor()\n",
    "sql = \"\"\"CREATE TABLE data_science_job (\n",
    "    no MEDIUMINT NOT NULL AUTO_INCREMENT PRIMARY KEY,\n",
    "    title VARCHAR(20),\n",
    "    cor_name VARCHAR(20),\n",
    "    requirement VARCHAR(40),\n",
    "    location VARCHAR(10),\n",
    "    hot_deg VARCHAR(15))\"\"\"\n",
    "\n",
    "cursor.execute(sql)\n",
    "db.close()"
   ]
  },
  {
   "cell_type": "code",
   "execution_count": 141,
   "metadata": {
    "collapsed": false
   },
   "outputs": [],
   "source": [
    "import MySQLdb\n",
    "\n",
    "db = MySQLdb.connect(host=\"localhost\",user=\"root\",db=\"python\",passwd=\"23784409\")\n",
    "cursor = db.cursor()\n",
    "db.set_character_set('utf8')\n",
    "\n",
    "with open('job1.json', 'rb') as f:\n",
    "    job_list = json.load(f)\n",
    "    for job in job_list:\n",
    "        title = job['title'].encode('utf-8')\n",
    "        cor_name = job['cor_name'].encode('utf-8')\n",
    "        requirement = job['requirement'].encode('utf-8')\n",
    "        location = job['location'].encode('utf-8')\n",
    "        hot_deg = job['hot_deg'].encode('utf-8')\n",
    "        sql = \"INSERT INTO data_science_job (title,cor_name,requirement,location,hot_deg) VALUES ('{}', '{}', '{}', '{}', '{}')\".format(title, cor_name, requirement, location, hot_deg)\n",
    "#         print sql   \n",
    "\n",
    "        try:\n",
    "            cursor.execute(sql)\n",
    "            db.commit()\n",
    "        except Exception as e:\n",
    "            db.rollback()\n",
    "db.close()"
   ]
  }
 ],
 "metadata": {
  "anaconda-cloud": {},
  "kernelspec": {
   "display_name": "Python [default]",
   "language": "python",
   "name": "python2"
  },
  "language_info": {
   "codemirror_mode": {
    "name": "ipython",
    "version": 2
   },
   "file_extension": ".py",
   "mimetype": "text/x-python",
   "name": "python",
   "nbconvert_exporter": "python",
   "pygments_lexer": "ipython2",
   "version": "2.7.12"
  }
 },
 "nbformat": 4,
 "nbformat_minor": 1
}
