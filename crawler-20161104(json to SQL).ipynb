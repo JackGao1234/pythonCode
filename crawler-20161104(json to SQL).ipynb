{
 "cells": [
  {
   "cell_type": "markdown",
   "metadata": {},
   "source": [
    "## json file to mySQL"
   ]
  },
  {
   "cell_type": "code",
   "execution_count": 2,
   "metadata": {
    "collapsed": false
   },
   "outputs": [
    {
     "name": "stdout",
     "output_type": "stream",
     "text": [
      "Database version : 5.7.14-log \n"
     ]
    }
   ],
   "source": [
    "import MySQ\n",
    "\n",
    "db = MySQLdb.connect(host=\"localhost\",user=\"root\",db=\"python\",passwd=\"23784409\")\n",
    "cursor = db.cursor()\n",
    "cursor.execute(\"SELECT VERSION()\")\n",
    "data = cursor.fetchone()\n",
    "print \"Database version : %s \" % data"
   ]
  },
  {
   "cell_type": "code",
   "execution_count": 6,
   "metadata": {
    "collapsed": false
   },
   "outputs": [],
   "source": [
    "import MySQLdb\n",
    "\n",
    "db = MySQLdb.connect(host=\"localhost\",user=\"root\",db=\"python\",passwd=\"23784409\")\n",
    "cursor = db.cursor()\n",
    "sql = \"\"\"CREATE TABLE tokyo (\n",
    "    serial_no MEDIUMINT NOT NULL AUTO_INCREMENT PRIMARY KEY,\n",
    "    1_hotel_name VARCHAR(30) NOT NULL,\n",
    "    2_area_name VARCHAR(30) NOT NULL,\n",
    "    3_price VARCHAR(10) NOT NULL,\n",
    "    4_price_dicounted VARCHAR(10) NOT NULL\n",
    ")\"\"\"\n",
    "\n",
    "cursor.execute(sql)\n",
    "db"
   ]
  },
  {
   "cell_type": "code",
   "execution_count": 44,
   "metadata": {
    "collapsed": false
   },
   "outputs": [],
   "source": [
    "import MySQLdb\n",
    "\n",
    "db = MySQLdb.connect(host=\"localhost\",user=\"root\",db=\"python\",passwd=\"23784409\")\n",
    "cursor = db.cursor()\n",
    "db.set_character_set('utf8')\n",
    "\n",
    "with open('detail5.json', 'rb') as f:\n",
    "    data_list = json.load(f)\n",
    "    for data in data_list:\n",
    "#         print data['2_area_name'].encode('utf-8')\n",
    "        area_name = data['2_area_name'].encode('utf-8')\n",
    "        price = data['3_price'].encode('utf-8')\n",
    "        hotel_name = data['1_hotel_name'].encode('utf-8')\n",
    "        price_discounted = data['4_price_dicounted'].encode('utf-8')\n",
    "        sql = \"INSERT INTO tokyo (1_hotel_name,2_area_name,3_price,4_price_dicounted) VALUES ('{}', '{}', '{}', '{}')\".format(hotel_name, area_name, price, price_discounted)\n",
    "#         \"INSERT INTO news (title, url, content, pub_date) VALUES ('{}', '{}', '{}', '{}')\"\n",
    "#         print sql\n",
    "    \n",
    "        try:\n",
    "            cursor.execute(sql)\n",
    "            db.commit()\n",
    "        except Exception as e:\n",
    "            print e\n",
    "            db.rollback()\n",
    "\n",
    "db.close()"
   ]
  }
 ],
 "metadata": {
  "anaconda-cloud": {},
  "kernelspec": {
   "display_name": "Python [default]",
   "language": "python",
   "name": "python2"
  },
  "language_info": {
   "codemirror_mode": {
    "name": "ipython",
    "version": 2
   },
   "file_extension": ".py",
   "mimetype": "text/x-python",
   "name": "python",
   "nbconvert_exporter": "python",
   "pygments_lexer": "ipython2",
   "version": "2.7.12"
  }
 },
 "nbformat": 4,
 "nbformat_minor": 1
}
