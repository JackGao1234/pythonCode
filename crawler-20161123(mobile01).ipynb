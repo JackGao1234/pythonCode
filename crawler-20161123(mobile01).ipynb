{
 "cells": [
  {
   "cell_type": "code",
   "execution_count": 22,
   "metadata": {
    "collapsed": false,
    "scrolled": false
   },
   "outputs": [
    {
     "name": "stdout",
     "output_type": "stream",
     "text": [
      "\n"
     ]
    }
   ],
   "source": [
    "import json\n",
    "import requests as r\n",
    "from bs4 import BeautifulSoup\n",
    "\n",
    "URL = \"http://www.mobile01.com/waypointtopiclist.php?f=405&p={}\"\n",
    "tURL = \"http://www.mobile01.com/\"\n",
    "article_list = []\n",
    "\n",
    "for page in range(1, 225):\n",
    "    res = r.get(URL.format(page))\n",
    "    soup = BeautifulSoup(res.text, 'lxml')\n",
    "    articles = soup.select('tr')\n",
    "\n",
    "    for article in articles:\n",
    "        try:\n",
    "            article_dict = {}\n",
    "            article_dict['title'] = article.select_one('span').text\n",
    "            article_dict['url'] = tURL + article.select_one('span').select_one('a')['href']\n",
    "            article_dict['datetime'] = article.select('td')[2].select_one('a').text.split(' ')[0]\n",
    "            article_dict['authur'] = article.select('td')[2].select('p')[1].text\n",
    "            article_list.append(article_dict)\n",
    "        except Exception as e:\n",
    "            print ''"
   ]
  },
  {
   "cell_type": "code",
   "execution_count": 23,
   "metadata": {
    "collapsed": true
   },
   "outputs": [],
   "source": [
    "import json\n",
    "mobile01json = json.dumps(article_list, ensure_ascii=False)\n",
    "with open('mobile01.json', 'w') as f:\n",
    "    f.write(mobile01json.encode('utf-8'))"
   ]
  }
 ],
 "metadata": {
  "anaconda-cloud": {},
  "kernelspec": {
   "display_name": "Python [default]",
   "language": "python",
   "name": "python2"
  },
  "language_info": {
   "codemirror_mode": {
    "name": "ipython",
    "version": 2
   },
   "file_extension": ".py",
   "mimetype": "text/x-python",
   "name": "python",
   "nbconvert_exporter": "python",
   "pygments_lexer": "ipython2",
   "version": "2.7.12"
  }
 },
 "nbformat": 4,
 "nbformat_minor": 1
}
