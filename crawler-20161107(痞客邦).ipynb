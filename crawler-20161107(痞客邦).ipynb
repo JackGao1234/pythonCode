{
 "cells": [
  {
   "cell_type": "markdown",
   "metadata": {},
   "source": [
    "# 爬痞客幫"
   ]
  },
  {
   "cell_type": "code",
   "execution_count": 17,
   "metadata": {
    "collapsed": false
   },
   "outputs": [],
   "source": [
    "import requests as r\n",
    "from bs4 import BeautifulSoup\n",
    "from selenium import webdriver\n",
    "from selenium.webdriver.common.by import By\n",
    "from selenium.webdriver.support.ui import WebDriverWait\n",
    "from selenium.webdriver.support import expected_conditions as EC\n",
    "import time\n",
    "\n",
    "URL=\"\"\"https://www.pixnet.net/searcharticle?q=%E6%97%A5%E5%8A%87%E5%A0%B4%E6%99%AF+%E8%87%AA%E7%94%B1%E8%A1%8C&type=related&period=year&page={}\"\"\"\n",
    "# URL=\"\"\"https://www.pixnet.net/searcharticle?q=%E6%97%A5%E5%8A%87%E5%A0%B4%E6%99%AF+%E8%87%AA%E7%94%B1%E8%A1%8C&type=related&period=year&page=1\"\"\"\n",
    "blog = []\n",
    "\n",
    "\n",
    "\n",
    "\n",
    "# for page in range(1, 30):\n",
    "#     res = r.get(URL.format(page))\n",
    "#     res.encoding = 'utf-8'\n",
    "#     soup = BeautifulSoup(res.text, 'lxml')\n",
    "#     articles = soup.select('li.search-list')\n",
    "#     for article in articles:\n",
    "#         article_dict = {}\n",
    "#         article_dict['title'] = article.select_one('li.search-title').select_one('a')['title']\n",
    "#         article_dict['blogger_name'] = article.select_one('div.search-meta').select_one('a').text\n",
    "#         article_dict['popularity'] = article.select('span.search-views')[0].select_one('span').text.strip()\n",
    "#         article_dict['post_time'] = article.select('span.search-postTime')[0].text\n",
    "#         article_dict['url'] = article.select_one('li.search-title').select_one('a')['href']\n",
    "#         blog.append(article_dict)\n",
    "#         print article_dict\n",
    "\n",
    "for page in range(1, 2):\n",
    "    res = r.get(URL.format(page))\n",
    "    res.encoding = 'utf-8'\n",
    "    soup = BeautifulSoup(res.text, 'lxml')\n",
    "    articles = soup.select('li.search-list')\n",
    "    for x,article in enumerate(articles):\n",
    "        article_dict = {}\n",
    "        article_dict['title'] = article.select_one('li.search-title').select_one('a')['title']\n",
    "        article_dict['blogger_name'] = article.select_one('div.search-meta').select_one('a').text\n",
    "        article_dict['popularity'] = article.select('span.search-views')[0].select_one('span').text.strip()\n",
    "        article_dict['post_time'] = article.select('span.search-postTime')[0].text\n",
    "        PAGE_URL = article.select_one('li.search-title').select_one('a')['href']\n",
    "        # 以此URL抓取頁面\n",
    "        driver = webdriver.Remote(\"http://localhost:9515\", webdriver.DesiredCapabilities.CHROME)\n",
    "        try:\n",
    "            driver.get(PAGE_URL)\n",
    "#             with open('blog_page.html', 'w') as f:\n",
    "#                 f.write(driver.page_source.encode('utf-8'))\n",
    "            element = WebDriverWait(driver,15).until(EC.presence_of_element_located((By.CSS_SELECTOR, \"div.back-to-top\")))\n",
    "            driver.execute_script(\"return arguments[0].scrollIntoView()\", element)\n",
    "            time.sleep(3)\n",
    "            with open('blog_page_{}_{}.html'.format(page, x), 'w') as f:  #{}1--第幾頁ˋ; {}2--第幾篇 \n",
    "                f.write(driver.page_source.encode('utf-8'))\n",
    "        finally:\n",
    "            driver.close()\n",
    "#         blog.append(article_dict)\n",
    "#         print article_dict"
   ]
  },
  {
   "cell_type": "markdown",
   "metadata": {},
   "source": [
    "# blog profile to json file"
   ]
  },
  {
   "cell_type": "code",
   "execution_count": null,
   "metadata": {
    "collapsed": true
   },
   "outputs": [],
   "source": [
    "import json\n",
    "blogjson = json.dumps(blog, ensure_ascii=False)   #bolg為上面list\n",
    "with open('blog.json', 'w') as a:\n",
    "    a.write(blogjson.encode('utf-8'))"
   ]
  }
 ],
 "metadata": {
  "anaconda-cloud": {},
  "kernelspec": {
   "display_name": "Python [default]",
   "language": "python",
   "name": "python2"
  },
  "language_info": {
   "codemirror_mode": {
    "name": "ipython",
    "version": 2
   },
   "file_extension": ".py",
   "mimetype": "text/x-python",
   "name": "python",
   "nbconvert_exporter": "python",
   "pygments_lexer": "ipython2",
   "version": "2.7.12"
  }
 },
 "nbformat": 4,
 "nbformat_minor": 1
}
